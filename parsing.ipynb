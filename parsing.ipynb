{
  "nbformat": 4,
  "nbformat_minor": 0,
  "metadata": {
    "colab": {
      "provenance": [],
      "authorship_tag": "ABX9TyMtQL/8rnlSe+9hwk+IWoLl",
      "include_colab_link": true
    },
    "kernelspec": {
      "name": "python3",
      "display_name": "Python 3"
    },
    "language_info": {
      "name": "python"
    }
  },
  "cells": [
    {
      "cell_type": "markdown",
      "metadata": {
        "id": "view-in-github",
        "colab_type": "text"
      },
      "source": [
        "<a href=\"https://colab.research.google.com/github/Derniska/MyProject/blob/master/parsing.ipynb\" target=\"_parent\"><img src=\"https://colab.research.google.com/assets/colab-badge.svg\" alt=\"Open In Colab\"/></a>"
      ]
    },
    {
      "cell_type": "code",
      "execution_count": null,
      "metadata": {
        "id": "L0UYeNeo9H3a"
      },
      "outputs": [],
      "source": [
        "import requests\n",
        "from bs4 import BeautifulSoup\n",
        "import pandas as pd"
      ]
    },
    {
      "cell_type": "code",
      "source": [
        "res = requests.get('https://stepik.org/media/attachments/lesson/866758/mean_salary_by_city.html')"
      ],
      "metadata": {
        "id": "xL5GgO4g9Kwq"
      },
      "execution_count": null,
      "outputs": []
    },
    {
      "cell_type": "code",
      "source": [
        "res.status_code"
      ],
      "metadata": {
        "colab": {
          "base_uri": "https://localhost:8080/"
        },
        "id": "R2rji0_s9P-j",
        "outputId": "55363a3c-ca6b-4d55-9ce7-3530464fffa2"
      },
      "execution_count": null,
      "outputs": [
        {
          "output_type": "execute_result",
          "data": {
            "text/plain": [
              "200"
            ]
          },
          "metadata": {},
          "execution_count": 6
        }
      ]
    },
    {
      "cell_type": "code",
      "source": [
        "soup = BeautifulSoup(res.text, 'lxml')"
      ],
      "metadata": {
        "id": "1rm9Lxd19Rxo"
      },
      "execution_count": null,
      "outputs": []
    },
    {
      "cell_type": "code",
      "source": [
        "# soup.find('div', class_ = 'reg_name').text.encode('latin1').decode('utf-8')\n",
        "regions = {'city' : [], 'mean_salary' : []}\n",
        "for tag in soup.find_all('div', class_ = 'row block_rating'):\n",
        "  regions['city'].append(tag.find('div', class_ = 'reg_name').text.encode('latin1').decode('utf-8'))\n",
        "  regions['mean_salary'].append((tag.find('span', class_ = 'reg_salary').text.replace('â\\x82½', '').replace('\\xa0', '')))\n",
        "\n"
      ],
      "metadata": {
        "id": "qKX23oxu9cDy"
      },
      "execution_count": null,
      "outputs": []
    },
    {
      "cell_type": "code",
      "source": [
        "region_salary = pd.DataFrame(regions)\n",
        "region_salary.mean_salary = region_salary.mean_salary.astype('int')\n",
        "region_salary = region_salary.sort_values(by = 'city').reset_index(drop = True)\n",
        "region_salary.to_csv('city_salary.csv', index = False)\n"
      ],
      "metadata": {
        "id": "_vcc68cJCUWG"
      },
      "execution_count": null,
      "outputs": []
    },
    {
      "cell_type": "code",
      "source": [],
      "metadata": {
        "id": "Klf3ymjNIrI5"
      },
      "execution_count": null,
      "outputs": []
    }
  ]
}