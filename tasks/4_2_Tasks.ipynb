{
  "nbformat": 4,
  "nbformat_minor": 0,
  "metadata": {
    "colab": {
      "provenance": [],
      "collapsed_sections": [
        "tQFfZ4nx_fMo"
      ]
    },
    "kernelspec": {
      "name": "python3",
      "display_name": "Python 3"
    },
    "language_info": {
      "name": "python"
    }
  },
  "cells": [
    {
      "cell_type": "markdown",
      "source": [
        "# Задача на 6-ом шаге урока"
      ],
      "metadata": {
        "id": "tQFfZ4nx_fMo"
      }
    },
    {
      "cell_type": "markdown",
      "source": [
        "**🦌 Кастомные loss'ы & eval функции в LightGBM**"
      ],
      "metadata": {
        "id": "_8c4owd7pW8D"
      }
    },
    {
      "cell_type": "code",
      "source": [],
      "metadata": {
        "id": "Oi9AEAGOBuec"
      },
      "execution_count": null,
      "outputs": []
    },
    {
      "cell_type": "markdown",
      "source": [
        "Датасет для тестов"
      ],
      "metadata": {
        "id": "nAdZNrW0p7W4"
      }
    },
    {
      "cell_type": "code",
      "execution_count": 4,
      "metadata": {
        "id": "SJ48wmwEtd82"
      },
      "outputs": [],
      "source": [
        "import pandas as pd\n",
        "import numpy as np\n",
        "import lightgbm\n",
        "from sklearn.model_selection import train_test_split"
      ]
    },
    {
      "cell_type": "code",
      "source": [
        "path = 'https://raw.githubusercontent.com/a-milenkin/Competitive_Data_Science/main/data/car_train.csv'\n",
        "car_train = pd.read_csv(path)"
      ],
      "metadata": {
        "id": "Mhwbu91nthzl"
      },
      "execution_count": 5,
      "outputs": []
    },
    {
      "cell_type": "code",
      "source": [
        "car_train.head()"
      ],
      "metadata": {
        "id": "t8KIX_m7Vsxz",
        "outputId": "4de9bdba-06fb-4dbf-db4f-e567e435f02a",
        "colab": {
          "base_uri": "https://localhost:8080/",
          "height": 206
        }
      },
      "execution_count": 6,
      "outputs": [
        {
          "output_type": "execute_result",
          "data": {
            "text/plain": [
              "       car_id              model  car_type fuel_type  car_rating  \\\n",
              "0  y13744087j     Kia Rio X-line   economy    petrol        3.78   \n",
              "1  O41613818T         VW Polo VI   economy    petrol        3.90   \n",
              "2  d-2109686j    Renault Sandero  standart    petrol        6.30   \n",
              "3  u29695600e  Mercedes-Benz GLC  business    petrol        4.04   \n",
              "4  N-8915870N    Renault Sandero  standart    petrol        4.70   \n",
              "\n",
              "   year_to_start  riders  year_to_work  target_reg target_class  \n",
              "0           2015   76163          2021      108.53  another_bug  \n",
              "1           2015   78218          2021       35.20  electro_bug  \n",
              "2           2012   23340          2017       38.62   gear_stick  \n",
              "3           2011    1263          2020       30.34  engine_fuel  \n",
              "4           2012   26428          2017       30.45  engine_fuel  "
            ],
            "text/html": [
              "\n",
              "  <div id=\"df-ca29fd51-0f1e-4949-975d-9fd31c1f6ef7\" class=\"colab-df-container\">\n",
              "    <div>\n",
              "<style scoped>\n",
              "    .dataframe tbody tr th:only-of-type {\n",
              "        vertical-align: middle;\n",
              "    }\n",
              "\n",
              "    .dataframe tbody tr th {\n",
              "        vertical-align: top;\n",
              "    }\n",
              "\n",
              "    .dataframe thead th {\n",
              "        text-align: right;\n",
              "    }\n",
              "</style>\n",
              "<table border=\"1\" class=\"dataframe\">\n",
              "  <thead>\n",
              "    <tr style=\"text-align: right;\">\n",
              "      <th></th>\n",
              "      <th>car_id</th>\n",
              "      <th>model</th>\n",
              "      <th>car_type</th>\n",
              "      <th>fuel_type</th>\n",
              "      <th>car_rating</th>\n",
              "      <th>year_to_start</th>\n",
              "      <th>riders</th>\n",
              "      <th>year_to_work</th>\n",
              "      <th>target_reg</th>\n",
              "      <th>target_class</th>\n",
              "    </tr>\n",
              "  </thead>\n",
              "  <tbody>\n",
              "    <tr>\n",
              "      <th>0</th>\n",
              "      <td>y13744087j</td>\n",
              "      <td>Kia Rio X-line</td>\n",
              "      <td>economy</td>\n",
              "      <td>petrol</td>\n",
              "      <td>3.78</td>\n",
              "      <td>2015</td>\n",
              "      <td>76163</td>\n",
              "      <td>2021</td>\n",
              "      <td>108.53</td>\n",
              "      <td>another_bug</td>\n",
              "    </tr>\n",
              "    <tr>\n",
              "      <th>1</th>\n",
              "      <td>O41613818T</td>\n",
              "      <td>VW Polo VI</td>\n",
              "      <td>economy</td>\n",
              "      <td>petrol</td>\n",
              "      <td>3.90</td>\n",
              "      <td>2015</td>\n",
              "      <td>78218</td>\n",
              "      <td>2021</td>\n",
              "      <td>35.20</td>\n",
              "      <td>electro_bug</td>\n",
              "    </tr>\n",
              "    <tr>\n",
              "      <th>2</th>\n",
              "      <td>d-2109686j</td>\n",
              "      <td>Renault Sandero</td>\n",
              "      <td>standart</td>\n",
              "      <td>petrol</td>\n",
              "      <td>6.30</td>\n",
              "      <td>2012</td>\n",
              "      <td>23340</td>\n",
              "      <td>2017</td>\n",
              "      <td>38.62</td>\n",
              "      <td>gear_stick</td>\n",
              "    </tr>\n",
              "    <tr>\n",
              "      <th>3</th>\n",
              "      <td>u29695600e</td>\n",
              "      <td>Mercedes-Benz GLC</td>\n",
              "      <td>business</td>\n",
              "      <td>petrol</td>\n",
              "      <td>4.04</td>\n",
              "      <td>2011</td>\n",
              "      <td>1263</td>\n",
              "      <td>2020</td>\n",
              "      <td>30.34</td>\n",
              "      <td>engine_fuel</td>\n",
              "    </tr>\n",
              "    <tr>\n",
              "      <th>4</th>\n",
              "      <td>N-8915870N</td>\n",
              "      <td>Renault Sandero</td>\n",
              "      <td>standart</td>\n",
              "      <td>petrol</td>\n",
              "      <td>4.70</td>\n",
              "      <td>2012</td>\n",
              "      <td>26428</td>\n",
              "      <td>2017</td>\n",
              "      <td>30.45</td>\n",
              "      <td>engine_fuel</td>\n",
              "    </tr>\n",
              "  </tbody>\n",
              "</table>\n",
              "</div>\n",
              "    <div class=\"colab-df-buttons\">\n",
              "\n",
              "  <div class=\"colab-df-container\">\n",
              "    <button class=\"colab-df-convert\" onclick=\"convertToInteractive('df-ca29fd51-0f1e-4949-975d-9fd31c1f6ef7')\"\n",
              "            title=\"Convert this dataframe to an interactive table.\"\n",
              "            style=\"display:none;\">\n",
              "\n",
              "  <svg xmlns=\"http://www.w3.org/2000/svg\" height=\"24px\" viewBox=\"0 -960 960 960\">\n",
              "    <path d=\"M120-120v-720h720v720H120Zm60-500h600v-160H180v160Zm220 220h160v-160H400v160Zm0 220h160v-160H400v160ZM180-400h160v-160H180v160Zm440 0h160v-160H620v160ZM180-180h160v-160H180v160Zm440 0h160v-160H620v160Z\"/>\n",
              "  </svg>\n",
              "    </button>\n",
              "\n",
              "  <style>\n",
              "    .colab-df-container {\n",
              "      display:flex;\n",
              "      gap: 12px;\n",
              "    }\n",
              "\n",
              "    .colab-df-convert {\n",
              "      background-color: #E8F0FE;\n",
              "      border: none;\n",
              "      border-radius: 50%;\n",
              "      cursor: pointer;\n",
              "      display: none;\n",
              "      fill: #1967D2;\n",
              "      height: 32px;\n",
              "      padding: 0 0 0 0;\n",
              "      width: 32px;\n",
              "    }\n",
              "\n",
              "    .colab-df-convert:hover {\n",
              "      background-color: #E2EBFA;\n",
              "      box-shadow: 0px 1px 2px rgba(60, 64, 67, 0.3), 0px 1px 3px 1px rgba(60, 64, 67, 0.15);\n",
              "      fill: #174EA6;\n",
              "    }\n",
              "\n",
              "    .colab-df-buttons div {\n",
              "      margin-bottom: 4px;\n",
              "    }\n",
              "\n",
              "    [theme=dark] .colab-df-convert {\n",
              "      background-color: #3B4455;\n",
              "      fill: #D2E3FC;\n",
              "    }\n",
              "\n",
              "    [theme=dark] .colab-df-convert:hover {\n",
              "      background-color: #434B5C;\n",
              "      box-shadow: 0px 1px 3px 1px rgba(0, 0, 0, 0.15);\n",
              "      filter: drop-shadow(0px 1px 2px rgba(0, 0, 0, 0.3));\n",
              "      fill: #FFFFFF;\n",
              "    }\n",
              "  </style>\n",
              "\n",
              "    <script>\n",
              "      const buttonEl =\n",
              "        document.querySelector('#df-ca29fd51-0f1e-4949-975d-9fd31c1f6ef7 button.colab-df-convert');\n",
              "      buttonEl.style.display =\n",
              "        google.colab.kernel.accessAllowed ? 'block' : 'none';\n",
              "\n",
              "      async function convertToInteractive(key) {\n",
              "        const element = document.querySelector('#df-ca29fd51-0f1e-4949-975d-9fd31c1f6ef7');\n",
              "        const dataTable =\n",
              "          await google.colab.kernel.invokeFunction('convertToInteractive',\n",
              "                                                    [key], {});\n",
              "        if (!dataTable) return;\n",
              "\n",
              "        const docLinkHtml = 'Like what you see? Visit the ' +\n",
              "          '<a target=\"_blank\" href=https://colab.research.google.com/notebooks/data_table.ipynb>data table notebook</a>'\n",
              "          + ' to learn more about interactive tables.';\n",
              "        element.innerHTML = '';\n",
              "        dataTable['output_type'] = 'display_data';\n",
              "        await google.colab.output.renderOutput(dataTable, element);\n",
              "        const docLink = document.createElement('div');\n",
              "        docLink.innerHTML = docLinkHtml;\n",
              "        element.appendChild(docLink);\n",
              "      }\n",
              "    </script>\n",
              "  </div>\n",
              "\n",
              "\n",
              "    <div id=\"df-3e361720-a1b4-46bd-9f73-0c81bd25e3ed\">\n",
              "      <button class=\"colab-df-quickchart\" onclick=\"quickchart('df-3e361720-a1b4-46bd-9f73-0c81bd25e3ed')\"\n",
              "                title=\"Suggest charts\"\n",
              "                style=\"display:none;\">\n",
              "\n",
              "<svg xmlns=\"http://www.w3.org/2000/svg\" height=\"24px\"viewBox=\"0 0 24 24\"\n",
              "     width=\"24px\">\n",
              "    <g>\n",
              "        <path d=\"M19 3H5c-1.1 0-2 .9-2 2v14c0 1.1.9 2 2 2h14c1.1 0 2-.9 2-2V5c0-1.1-.9-2-2-2zM9 17H7v-7h2v7zm4 0h-2V7h2v10zm4 0h-2v-4h2v4z\"/>\n",
              "    </g>\n",
              "</svg>\n",
              "      </button>\n",
              "\n",
              "<style>\n",
              "  .colab-df-quickchart {\n",
              "      --bg-color: #E8F0FE;\n",
              "      --fill-color: #1967D2;\n",
              "      --hover-bg-color: #E2EBFA;\n",
              "      --hover-fill-color: #174EA6;\n",
              "      --disabled-fill-color: #AAA;\n",
              "      --disabled-bg-color: #DDD;\n",
              "  }\n",
              "\n",
              "  [theme=dark] .colab-df-quickchart {\n",
              "      --bg-color: #3B4455;\n",
              "      --fill-color: #D2E3FC;\n",
              "      --hover-bg-color: #434B5C;\n",
              "      --hover-fill-color: #FFFFFF;\n",
              "      --disabled-bg-color: #3B4455;\n",
              "      --disabled-fill-color: #666;\n",
              "  }\n",
              "\n",
              "  .colab-df-quickchart {\n",
              "    background-color: var(--bg-color);\n",
              "    border: none;\n",
              "    border-radius: 50%;\n",
              "    cursor: pointer;\n",
              "    display: none;\n",
              "    fill: var(--fill-color);\n",
              "    height: 32px;\n",
              "    padding: 0;\n",
              "    width: 32px;\n",
              "  }\n",
              "\n",
              "  .colab-df-quickchart:hover {\n",
              "    background-color: var(--hover-bg-color);\n",
              "    box-shadow: 0 1px 2px rgba(60, 64, 67, 0.3), 0 1px 3px 1px rgba(60, 64, 67, 0.15);\n",
              "    fill: var(--button-hover-fill-color);\n",
              "  }\n",
              "\n",
              "  .colab-df-quickchart-complete:disabled,\n",
              "  .colab-df-quickchart-complete:disabled:hover {\n",
              "    background-color: var(--disabled-bg-color);\n",
              "    fill: var(--disabled-fill-color);\n",
              "    box-shadow: none;\n",
              "  }\n",
              "\n",
              "  .colab-df-spinner {\n",
              "    border: 2px solid var(--fill-color);\n",
              "    border-color: transparent;\n",
              "    border-bottom-color: var(--fill-color);\n",
              "    animation:\n",
              "      spin 1s steps(1) infinite;\n",
              "  }\n",
              "\n",
              "  @keyframes spin {\n",
              "    0% {\n",
              "      border-color: transparent;\n",
              "      border-bottom-color: var(--fill-color);\n",
              "      border-left-color: var(--fill-color);\n",
              "    }\n",
              "    20% {\n",
              "      border-color: transparent;\n",
              "      border-left-color: var(--fill-color);\n",
              "      border-top-color: var(--fill-color);\n",
              "    }\n",
              "    30% {\n",
              "      border-color: transparent;\n",
              "      border-left-color: var(--fill-color);\n",
              "      border-top-color: var(--fill-color);\n",
              "      border-right-color: var(--fill-color);\n",
              "    }\n",
              "    40% {\n",
              "      border-color: transparent;\n",
              "      border-right-color: var(--fill-color);\n",
              "      border-top-color: var(--fill-color);\n",
              "    }\n",
              "    60% {\n",
              "      border-color: transparent;\n",
              "      border-right-color: var(--fill-color);\n",
              "    }\n",
              "    80% {\n",
              "      border-color: transparent;\n",
              "      border-right-color: var(--fill-color);\n",
              "      border-bottom-color: var(--fill-color);\n",
              "    }\n",
              "    90% {\n",
              "      border-color: transparent;\n",
              "      border-bottom-color: var(--fill-color);\n",
              "    }\n",
              "  }\n",
              "</style>\n",
              "\n",
              "      <script>\n",
              "        async function quickchart(key) {\n",
              "          const quickchartButtonEl =\n",
              "            document.querySelector('#' + key + ' button');\n",
              "          quickchartButtonEl.disabled = true;  // To prevent multiple clicks.\n",
              "          quickchartButtonEl.classList.add('colab-df-spinner');\n",
              "          try {\n",
              "            const charts = await google.colab.kernel.invokeFunction(\n",
              "                'suggestCharts', [key], {});\n",
              "          } catch (error) {\n",
              "            console.error('Error during call to suggestCharts:', error);\n",
              "          }\n",
              "          quickchartButtonEl.classList.remove('colab-df-spinner');\n",
              "          quickchartButtonEl.classList.add('colab-df-quickchart-complete');\n",
              "        }\n",
              "        (() => {\n",
              "          let quickchartButtonEl =\n",
              "            document.querySelector('#df-3e361720-a1b4-46bd-9f73-0c81bd25e3ed button');\n",
              "          quickchartButtonEl.style.display =\n",
              "            google.colab.kernel.accessAllowed ? 'block' : 'none';\n",
              "        })();\n",
              "      </script>\n",
              "    </div>\n",
              "    </div>\n",
              "  </div>\n"
            ],
            "application/vnd.google.colaboratory.intrinsic+json": {
              "type": "dataframe",
              "variable_name": "car_train",
              "summary": "{\n  \"name\": \"car_train\",\n  \"rows\": 2337,\n  \"fields\": [\n    {\n      \"column\": \"car_id\",\n      \"properties\": {\n        \"dtype\": \"string\",\n        \"num_unique_values\": 2337,\n        \"samples\": [\n          \"z14411100u\",\n          \"n-6604555n\",\n          \"d-1051262p\"\n        ],\n        \"semantic_type\": \"\",\n        \"description\": \"\"\n      }\n    },\n    {\n      \"column\": \"model\",\n      \"properties\": {\n        \"dtype\": \"category\",\n        \"num_unique_values\": 26,\n        \"samples\": [\n          \"Smart ForFour\",\n          \"Renault Kaptur\",\n          \"Kia Rio X-line\"\n        ],\n        \"semantic_type\": \"\",\n        \"description\": \"\"\n      }\n    },\n    {\n      \"column\": \"car_type\",\n      \"properties\": {\n        \"dtype\": \"category\",\n        \"num_unique_values\": 4,\n        \"samples\": [\n          \"standart\",\n          \"premium\",\n          \"economy\"\n        ],\n        \"semantic_type\": \"\",\n        \"description\": \"\"\n      }\n    },\n    {\n      \"column\": \"fuel_type\",\n      \"properties\": {\n        \"dtype\": \"category\",\n        \"num_unique_values\": 2,\n        \"samples\": [\n          \"electro\",\n          \"petrol\"\n        ],\n        \"semantic_type\": \"\",\n        \"description\": \"\"\n      }\n    },\n    {\n      \"column\": \"car_rating\",\n      \"properties\": {\n        \"dtype\": \"number\",\n        \"std\": 0.9969539766615564,\n        \"min\": 0.98,\n        \"max\": 8.9,\n        \"num_unique_values\": 269,\n        \"samples\": [\n          2.78,\n          2.1\n        ],\n        \"semantic_type\": \"\",\n        \"description\": \"\"\n      }\n    },\n    {\n      \"column\": \"year_to_start\",\n      \"properties\": {\n        \"dtype\": \"number\",\n        \"std\": 1,\n        \"min\": 2011,\n        \"max\": 2017,\n        \"num_unique_values\": 7,\n        \"samples\": [\n          2015,\n          2012\n        ],\n        \"semantic_type\": \"\",\n        \"description\": \"\"\n      }\n    },\n    {\n      \"column\": \"riders\",\n      \"properties\": {\n        \"dtype\": \"number\",\n        \"std\": 33755,\n        \"min\": 23,\n        \"max\": 142862,\n        \"num_unique_values\": 2306,\n        \"samples\": [\n          61719,\n          100108\n        ],\n        \"semantic_type\": \"\",\n        \"description\": \"\"\n      }\n    },\n    {\n      \"column\": \"year_to_work\",\n      \"properties\": {\n        \"dtype\": \"number\",\n        \"std\": 2,\n        \"min\": 2014,\n        \"max\": 2022,\n        \"num_unique_values\": 9,\n        \"samples\": [\n          2022,\n          2017\n        ],\n        \"semantic_type\": \"\",\n        \"description\": \"\"\n      }\n    },\n    {\n      \"column\": \"target_reg\",\n      \"properties\": {\n        \"dtype\": \"number\",\n        \"std\": 17.579568125863805,\n        \"min\": 18.92,\n        \"max\": 141.63,\n        \"num_unique_values\": 1891,\n        \"samples\": [\n          37.98,\n          58.11\n        ],\n        \"semantic_type\": \"\",\n        \"description\": \"\"\n      }\n    },\n    {\n      \"column\": \"target_class\",\n      \"properties\": {\n        \"dtype\": \"category\",\n        \"num_unique_values\": 9,\n        \"samples\": [\n          \"wheel_shake\",\n          \"electro_bug\"\n        ],\n        \"semantic_type\": \"\",\n        \"description\": \"\"\n      }\n    }\n  ]\n}"
            }
          },
          "metadata": {},
          "execution_count": 6
        }
      ]
    },
    {
      "cell_type": "markdown",
      "source": [
        "Решение"
      ],
      "metadata": {
        "id": "d0v5ypU1qMqH"
      }
    },
    {
      "cell_type": "code",
      "source": [
        "# предикты получаем методом get_label()\n",
        "def custom_l2_loss(y, data):\n",
        "    t = data.get_label()\n",
        "    grad = y - t\n",
        "    hess = 1\n",
        "    return grad, hess\n",
        "\n",
        "def custom_l2_eval(y, data):\n",
        "    t = data.get_label()\n",
        "    l2 = (1/2) * (y -t)**2\n",
        "\n",
        "    is_higher_better = False\n",
        "    return 'l2', l2.mean(), is_higher_better"
      ],
      "metadata": {
        "id": "hWB45oYzqMBt"
      },
      "execution_count": 2,
      "outputs": []
    },
    {
      "cell_type": "code",
      "source": [
        "model = lightgbm.train(\n",
        "    params={'learning_rate': 0.01},\n",
        "    train_set=fit,\n",
        "    num_boost_round=10000,\n",
        "    valid_sets=(fit, val),\n",
        "    valid_names=('fit', 'val'),\n",
        "    early_stopping_rounds=20,\n",
        "    verbose_eval=100,\n",
        "    # Notice the two following parameters\n",
        "    fobj=custom_l2_loss,\n",
        "    feval=custom_l2_eval\n",
        ")"
      ],
      "metadata": {
        "id": "f8-_Zy9Uqb0Q"
      },
      "execution_count": null,
      "outputs": []
    },
    {
      "cell_type": "markdown",
      "source": [
        "# Задача на 7-ом шаге урока"
      ],
      "metadata": {
        "id": "MzSsFM41G7bl"
      }
    },
    {
      "cell_type": "markdown",
      "source": [
        "**⏲ Напиши свой шедулер!**"
      ],
      "metadata": {
        "id": "W00JXcVQrAB9"
      }
    },
    {
      "cell_type": "code",
      "source": [
        "start = 1\n",
        "stop = 0.1\n",
        "iterations  = 10\n",
        "step = 3\n",
        "i = 0\n",
        "j = 0\n",
        "base_values = np.linspace(start, stop, iterations)\n",
        "np.repeat(base_values, step)"
      ],
      "metadata": {
        "id": "uU6q9g2yrnT_",
        "outputId": "54fa437b-bcee-404d-caf6-e7727ce7044c",
        "colab": {
          "base_uri": "https://localhost:8080/"
        }
      },
      "execution_count": 50,
      "outputs": [
        {
          "output_type": "execute_result",
          "data": {
            "text/plain": [
              "array([1. , 1. , 1. , 0.9, 0.9, 0.9, 0.8, 0.8, 0.8, 0.7, 0.7, 0.7, 0.6,\n",
              "       0.6, 0.6, 0.5, 0.5, 0.5, 0.4, 0.4, 0.4, 0.3, 0.3, 0.3, 0.2, 0.2,\n",
              "       0.2, 0.1, 0.1, 0.1])"
            ]
          },
          "metadata": {},
          "execution_count": 50
        }
      ]
    },
    {
      "cell_type": "markdown",
      "source": [
        "Решение"
      ],
      "metadata": {
        "id": "eT9Wt-5ZrzS0"
      }
    },
    {
      "cell_type": "code",
      "source": [
        "def generate_lr_list(start:float, stop:float, iterations:int, step:int)->list():\n",
        "    i = 0\n",
        "    j = 0\n",
        "    arr = np.linspace(start, stop, iterations)\n",
        "    while i < iterations:\n",
        "      temp = np.repeat(arr[i], step)\n",
        "      i += step\n",
        "      if iterations - j >= step:\n",
        "        arr[j : i] = temp\n",
        "      j += step\n",
        "    return list(arr)\n"
      ],
      "metadata": {
        "id": "0TYAF7BirlEc"
      },
      "execution_count": 48,
      "outputs": []
    },
    {
      "cell_type": "code",
      "source": [
        "generate_lr_list(1, 0.1, 15, 4)"
      ],
      "metadata": {
        "id": "VlzTKiWfIIgQ",
        "outputId": "523c1036-3c23-4323-affe-85ebe4538db3",
        "colab": {
          "base_uri": "https://localhost:8080/"
        }
      },
      "execution_count": 54,
      "outputs": [
        {
          "output_type": "execute_result",
          "data": {
            "text/plain": [
              "[np.float64(1.0),\n",
              " np.float64(1.0),\n",
              " np.float64(1.0),\n",
              " np.float64(1.0),\n",
              " np.float64(0.7428571428571429),\n",
              " np.float64(0.7428571428571429),\n",
              " np.float64(0.7428571428571429),\n",
              " np.float64(0.7428571428571429),\n",
              " np.float64(0.48571428571428565),\n",
              " np.float64(0.48571428571428565),\n",
              " np.float64(0.48571428571428565),\n",
              " np.float64(0.48571428571428565),\n",
              " np.float64(0.22857142857142843),\n",
              " np.float64(0.16428571428571415),\n",
              " np.float64(0.1)]"
            ]
          },
          "metadata": {},
          "execution_count": 54
        }
      ]
    },
    {
      "cell_type": "code",
      "source": [
        "start = 1\n",
        "stop = 0.1\n",
        "iterations  = 10\n",
        "step = 3\n",
        "generated_lr = []\n",
        "num_integer, num_remainder = iterations//step, iterations%step\n",
        "arr = np.linspace(start, stop, num_integer+(1 if num_remainder>0 else 0))\n",
        "for i, val in enumerate(arr):\n",
        "  if i  < num_integer:\n",
        "    generated_lr.extend([val] * step)\n",
        "  else:\n",
        "    generated_lr.extend([val] * num_remainder)\n",
        "generated_lr"
      ],
      "metadata": {
        "id": "vcV8LGHNVRiS",
        "outputId": "43d83719-110c-422b-cdd9-9bf6e828e10d",
        "colab": {
          "base_uri": "https://localhost:8080/"
        }
      },
      "execution_count": 71,
      "outputs": [
        {
          "output_type": "execute_result",
          "data": {
            "text/plain": [
              "[np.float64(1.0),\n",
              " np.float64(1.0),\n",
              " np.float64(1.0),\n",
              " np.float64(0.7),\n",
              " np.float64(0.7),\n",
              " np.float64(0.7),\n",
              " np.float64(0.4),\n",
              " np.float64(0.4),\n",
              " np.float64(0.4),\n",
              " np.float64(0.1)]"
            ]
          },
          "metadata": {},
          "execution_count": 71
        }
      ]
    },
    {
      "cell_type": "code",
      "source": [
        "def generate_lr_list(start:float, stop:float, iterations:int, step:int)->list():\n",
        "    generated_lr = []\n",
        "    num_integer, num_remainder = iterations//step, iterations%step\n",
        "\n",
        "    for i in np.linspace(start, stop, num_integer+(1 if num_remainder>0 else 0)):\n",
        "        for i, val in enumerate(arr):\n",
        "          if i  < num_integer:\n",
        "            generated_lr.extend([val] * step)\n",
        "          else:\n",
        "            generated_lr.extend([val] * num_remainder)\n",
        "    return generated_lr"
      ],
      "metadata": {
        "id": "bcbk6KneU8GO"
      },
      "execution_count": 72,
      "outputs": []
    },
    {
      "cell_type": "code",
      "source": [],
      "metadata": {
        "id": "lTVGeFQ4ty_G"
      },
      "execution_count": null,
      "outputs": []
    }
  ]
}