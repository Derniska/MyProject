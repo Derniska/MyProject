{
  "nbformat": 4,
  "nbformat_minor": 0,
  "metadata": {
    "colab": {
      "provenance": [],
      "collapsed_sections": [
        "_g-feWYkdzVK",
        "tQFfZ4nx_fMo",
        "MzSsFM41G7bl",
        "tp2kr4xK_Lgu",
        "XoxhPMZzHlNU"
      ]
    },
    "kernelspec": {
      "name": "python3",
      "display_name": "Python 3"
    },
    "language_info": {
      "name": "python"
    }
  },
  "cells": [
    {
      "cell_type": "markdown",
      "source": [
        "# Задача на 3-ом шаге урока"
      ],
      "metadata": {
        "id": "_g-feWYkdzVK"
      }
    },
    {
      "cell_type": "markdown",
      "source": [
        "**Застекай их**"
      ],
      "metadata": {
        "id": "Cch6MCo7fP7q"
      }
    },
    {
      "cell_type": "markdown",
      "source": [
        "Объявите модель StackingClassifier(), которая в качестве базовых моделей будет принимать список estimators, а в качестве метамодели использует LogisticRegression()."
      ],
      "metadata": {
        "id": "FyiHNYOXmjWJ"
      }
    },
    {
      "cell_type": "code",
      "source": [],
      "metadata": {
        "id": "p4lb5D4MdwSY"
      },
      "execution_count": null,
      "outputs": []
    },
    {
      "cell_type": "code",
      "source": [
        "from sklearn.ensemble import StackingClassifier\n",
        "\n",
        "meta_model = ## your code here"
      ],
      "metadata": {
        "id": "Ay6An0NddwOc"
      },
      "execution_count": null,
      "outputs": []
    },
    {
      "cell_type": "code",
      "source": [],
      "metadata": {
        "id": "XxDZn_nKdJzq"
      },
      "execution_count": null,
      "outputs": []
    },
    {
      "cell_type": "markdown",
      "source": [
        "# Задача на 5-ом шаге урока"
      ],
      "metadata": {
        "id": "tQFfZ4nx_fMo"
      }
    },
    {
      "cell_type": "markdown",
      "source": [
        "**Разгоняем метамодель**"
      ],
      "metadata": {
        "id": "mAxLZmxXfamF"
      }
    },
    {
      "cell_type": "markdown",
      "source": [
        "Ссылка на данные для тестирования"
      ],
      "metadata": {
        "id": "UJRZxUvSnGAa"
      }
    },
    {
      "cell_type": "code",
      "source": [
        "import pandas as pd\n",
        "path = 'https://stepik.org/media/attachments/lesson/825511/meta_feautres_data.csv'\n",
        "pd.read_csv(path).head()"
      ],
      "metadata": {
        "id": "Mhwbu91nthzl",
        "colab": {
          "base_uri": "https://localhost:8080/",
          "height": 206
        },
        "outputId": "92450991-2899-4c8c-fa9c-888b3420e839"
      },
      "execution_count": null,
      "outputs": [
        {
          "output_type": "execute_result",
          "data": {
            "text/plain": [
              "   index     target     model\n",
              "0      0  65.927922  catboost\n",
              "1      1  44.248116  catboost\n",
              "2      2  43.807966  catboost\n",
              "3      3  45.661121  catboost\n",
              "4      4  43.653036  catboost"
            ],
            "text/html": [
              "\n",
              "\n",
              "  <div id=\"df-348c3cd1-2000-48f7-a83a-932b1102280f\">\n",
              "    <div class=\"colab-df-container\">\n",
              "      <div>\n",
              "<style scoped>\n",
              "    .dataframe tbody tr th:only-of-type {\n",
              "        vertical-align: middle;\n",
              "    }\n",
              "\n",
              "    .dataframe tbody tr th {\n",
              "        vertical-align: top;\n",
              "    }\n",
              "\n",
              "    .dataframe thead th {\n",
              "        text-align: right;\n",
              "    }\n",
              "</style>\n",
              "<table border=\"1\" class=\"dataframe\">\n",
              "  <thead>\n",
              "    <tr style=\"text-align: right;\">\n",
              "      <th></th>\n",
              "      <th>index</th>\n",
              "      <th>target</th>\n",
              "      <th>model</th>\n",
              "    </tr>\n",
              "  </thead>\n",
              "  <tbody>\n",
              "    <tr>\n",
              "      <th>0</th>\n",
              "      <td>0</td>\n",
              "      <td>65.927922</td>\n",
              "      <td>catboost</td>\n",
              "    </tr>\n",
              "    <tr>\n",
              "      <th>1</th>\n",
              "      <td>1</td>\n",
              "      <td>44.248116</td>\n",
              "      <td>catboost</td>\n",
              "    </tr>\n",
              "    <tr>\n",
              "      <th>2</th>\n",
              "      <td>2</td>\n",
              "      <td>43.807966</td>\n",
              "      <td>catboost</td>\n",
              "    </tr>\n",
              "    <tr>\n",
              "      <th>3</th>\n",
              "      <td>3</td>\n",
              "      <td>45.661121</td>\n",
              "      <td>catboost</td>\n",
              "    </tr>\n",
              "    <tr>\n",
              "      <th>4</th>\n",
              "      <td>4</td>\n",
              "      <td>43.653036</td>\n",
              "      <td>catboost</td>\n",
              "    </tr>\n",
              "  </tbody>\n",
              "</table>\n",
              "</div>\n",
              "      <button class=\"colab-df-convert\" onclick=\"convertToInteractive('df-348c3cd1-2000-48f7-a83a-932b1102280f')\"\n",
              "              title=\"Convert this dataframe to an interactive table.\"\n",
              "              style=\"display:none;\">\n",
              "\n",
              "  <svg xmlns=\"http://www.w3.org/2000/svg\" height=\"24px\"viewBox=\"0 0 24 24\"\n",
              "       width=\"24px\">\n",
              "    <path d=\"M0 0h24v24H0V0z\" fill=\"none\"/>\n",
              "    <path d=\"M18.56 5.44l.94 2.06.94-2.06 2.06-.94-2.06-.94-.94-2.06-.94 2.06-2.06.94zm-11 1L8.5 8.5l.94-2.06 2.06-.94-2.06-.94L8.5 2.5l-.94 2.06-2.06.94zm10 10l.94 2.06.94-2.06 2.06-.94-2.06-.94-.94-2.06-.94 2.06-2.06.94z\"/><path d=\"M17.41 7.96l-1.37-1.37c-.4-.4-.92-.59-1.43-.59-.52 0-1.04.2-1.43.59L10.3 9.45l-7.72 7.72c-.78.78-.78 2.05 0 2.83L4 21.41c.39.39.9.59 1.41.59.51 0 1.02-.2 1.41-.59l7.78-7.78 2.81-2.81c.8-.78.8-2.07 0-2.86zM5.41 20L4 18.59l7.72-7.72 1.47 1.35L5.41 20z\"/>\n",
              "  </svg>\n",
              "      </button>\n",
              "\n",
              "\n",
              "\n",
              "    <div id=\"df-d9ac2c93-2972-4e4d-9b28-9f054fd82051\">\n",
              "      <button class=\"colab-df-quickchart\" onclick=\"quickchart('df-d9ac2c93-2972-4e4d-9b28-9f054fd82051')\"\n",
              "              title=\"Suggest charts.\"\n",
              "              style=\"display:none;\">\n",
              "\n",
              "<svg xmlns=\"http://www.w3.org/2000/svg\" height=\"24px\"viewBox=\"0 0 24 24\"\n",
              "     width=\"24px\">\n",
              "    <g>\n",
              "        <path d=\"M19 3H5c-1.1 0-2 .9-2 2v14c0 1.1.9 2 2 2h14c1.1 0 2-.9 2-2V5c0-1.1-.9-2-2-2zM9 17H7v-7h2v7zm4 0h-2V7h2v10zm4 0h-2v-4h2v4z\"/>\n",
              "    </g>\n",
              "</svg>\n",
              "      </button>\n",
              "    </div>\n",
              "\n",
              "<style>\n",
              "  .colab-df-quickchart {\n",
              "    background-color: #E8F0FE;\n",
              "    border: none;\n",
              "    border-radius: 50%;\n",
              "    cursor: pointer;\n",
              "    display: none;\n",
              "    fill: #1967D2;\n",
              "    height: 32px;\n",
              "    padding: 0 0 0 0;\n",
              "    width: 32px;\n",
              "  }\n",
              "\n",
              "  .colab-df-quickchart:hover {\n",
              "    background-color: #E2EBFA;\n",
              "    box-shadow: 0px 1px 2px rgba(60, 64, 67, 0.3), 0px 1px 3px 1px rgba(60, 64, 67, 0.15);\n",
              "    fill: #174EA6;\n",
              "  }\n",
              "\n",
              "  [theme=dark] .colab-df-quickchart {\n",
              "    background-color: #3B4455;\n",
              "    fill: #D2E3FC;\n",
              "  }\n",
              "\n",
              "  [theme=dark] .colab-df-quickchart:hover {\n",
              "    background-color: #434B5C;\n",
              "    box-shadow: 0px 1px 3px 1px rgba(0, 0, 0, 0.15);\n",
              "    filter: drop-shadow(0px 1px 2px rgba(0, 0, 0, 0.3));\n",
              "    fill: #FFFFFF;\n",
              "  }\n",
              "</style>\n",
              "\n",
              "    <script>\n",
              "      async function quickchart(key) {\n",
              "        const containerElement = document.querySelector('#' + key);\n",
              "        const charts = await google.colab.kernel.invokeFunction(\n",
              "            'suggestCharts', [key], {});\n",
              "      }\n",
              "    </script>\n",
              "\n",
              "      <script>\n",
              "\n",
              "function displayQuickchartButton(domScope) {\n",
              "  let quickchartButtonEl =\n",
              "    domScope.querySelector('#df-d9ac2c93-2972-4e4d-9b28-9f054fd82051 button.colab-df-quickchart');\n",
              "  quickchartButtonEl.style.display =\n",
              "    google.colab.kernel.accessAllowed ? 'block' : 'none';\n",
              "}\n",
              "\n",
              "        displayQuickchartButton(document);\n",
              "      </script>\n",
              "      <style>\n",
              "    .colab-df-container {\n",
              "      display:flex;\n",
              "      flex-wrap:wrap;\n",
              "      gap: 12px;\n",
              "    }\n",
              "\n",
              "    .colab-df-convert {\n",
              "      background-color: #E8F0FE;\n",
              "      border: none;\n",
              "      border-radius: 50%;\n",
              "      cursor: pointer;\n",
              "      display: none;\n",
              "      fill: #1967D2;\n",
              "      height: 32px;\n",
              "      padding: 0 0 0 0;\n",
              "      width: 32px;\n",
              "    }\n",
              "\n",
              "    .colab-df-convert:hover {\n",
              "      background-color: #E2EBFA;\n",
              "      box-shadow: 0px 1px 2px rgba(60, 64, 67, 0.3), 0px 1px 3px 1px rgba(60, 64, 67, 0.15);\n",
              "      fill: #174EA6;\n",
              "    }\n",
              "\n",
              "    [theme=dark] .colab-df-convert {\n",
              "      background-color: #3B4455;\n",
              "      fill: #D2E3FC;\n",
              "    }\n",
              "\n",
              "    [theme=dark] .colab-df-convert:hover {\n",
              "      background-color: #434B5C;\n",
              "      box-shadow: 0px 1px 3px 1px rgba(0, 0, 0, 0.15);\n",
              "      filter: drop-shadow(0px 1px 2px rgba(0, 0, 0, 0.3));\n",
              "      fill: #FFFFFF;\n",
              "    }\n",
              "  </style>\n",
              "\n",
              "      <script>\n",
              "        const buttonEl =\n",
              "          document.querySelector('#df-348c3cd1-2000-48f7-a83a-932b1102280f button.colab-df-convert');\n",
              "        buttonEl.style.display =\n",
              "          google.colab.kernel.accessAllowed ? 'block' : 'none';\n",
              "\n",
              "        async function convertToInteractive(key) {\n",
              "          const element = document.querySelector('#df-348c3cd1-2000-48f7-a83a-932b1102280f');\n",
              "          const dataTable =\n",
              "            await google.colab.kernel.invokeFunction('convertToInteractive',\n",
              "                                                     [key], {});\n",
              "          if (!dataTable) return;\n",
              "\n",
              "          const docLinkHtml = 'Like what you see? Visit the ' +\n",
              "            '<a target=\"_blank\" href=https://colab.research.google.com/notebooks/data_table.ipynb>data table notebook</a>'\n",
              "            + ' to learn more about interactive tables.';\n",
              "          element.innerHTML = '';\n",
              "          dataTable['output_type'] = 'display_data';\n",
              "          await google.colab.output.renderOutput(dataTable, element);\n",
              "          const docLink = document.createElement('div');\n",
              "          docLink.innerHTML = docLinkHtml;\n",
              "          element.appendChild(docLink);\n",
              "        }\n",
              "      </script>\n",
              "    </div>\n",
              "  </div>\n"
            ]
          },
          "metadata": {},
          "execution_count": 22
        }
      ]
    },
    {
      "cell_type": "code",
      "source": [],
      "metadata": {
        "id": "ZP0PMcbsffYP"
      },
      "execution_count": null,
      "outputs": []
    },
    {
      "cell_type": "markdown",
      "source": [
        "# Задача на 6-ом и 7-ом шаге урока"
      ],
      "metadata": {
        "id": "MzSsFM41G7bl"
      }
    },
    {
      "cell_type": "markdown",
      "source": [
        "**Пишем свой стекер и обучаем его**"
      ],
      "metadata": {
        "id": "GpdzC9J7fy-t"
      }
    },
    {
      "cell_type": "markdown",
      "source": [
        "На 6-ом шаге урока пишем класс Blender.\n",
        "На 7-ом шаге урока воспользуйся классом Blender, который написал на предыдущем задании, и обучи свой ансамбль."
      ],
      "metadata": {
        "id": "jBDRsANYt30s"
      }
    },
    {
      "cell_type": "markdown",
      "source": [
        "Для тестирования на данных можно взять датасет"
      ],
      "metadata": {
        "id": "tpRUSmVH5pp8"
      }
    },
    {
      "cell_type": "code",
      "source": [
        "from sklearn import datasets\n",
        "from sklearn.model_selection import train_test_split\n",
        "\n",
        "X, y = datasets.load_diabetes(return_X_y=True)\n",
        "X_train, X_holdout, y_train, y_holdout = train_test_split(X, y, random_state=42, shuffle=True)"
      ],
      "metadata": {
        "id": "7wTFxAxfighS"
      },
      "execution_count": null,
      "outputs": []
    },
    {
      "cell_type": "code",
      "source": [],
      "metadata": {
        "id": "8qZVIE2XwF4u"
      },
      "execution_count": null,
      "outputs": []
    },
    {
      "cell_type": "markdown",
      "source": [
        "Решение шаг 6"
      ],
      "metadata": {
        "id": "dGJ36Gei5pcK"
      }
    },
    {
      "cell_type": "code",
      "source": [
        "import numpy as np\n",
        "class Blender:\n",
        "    def __init__(self, base_models, meta_model):\n",
        "        \"\"\"\n",
        "        base_models - список базовых моделей, которые нужно обучать на изначальных данных\n",
        "        meta_model - мета модель, которая обучается на предсказаниях базовых моделей\n",
        "        Считайте, что модель, которая передается имеет поля .fit(X_train, y_train) и .predict(X_test)\n",
        "        .predict(X_test) возвращает предсказания размерности (n_samples,)\n",
        "        \"\"\"\n",
        "        self.base_models = base_models\n",
        "        self.meta_model = meta_model\n",
        "\n",
        "    def fit(self, X_train, y_train, X_hold, y_hold):\n",
        "        base_model_predictions = []\n",
        "        for model in self.base_models:\n",
        "          model.fit(X_train, y_train)\n",
        "          base_model_pred = model.predict(X_hold)\n",
        "          base_model_predictions.append(base_model_pred)\n",
        "        meta_arr = np.column_stack(base_model_predictions)\n",
        "        self.meta_model.fit(meta_arr, y_hold)\n",
        "        pass\n",
        "\n",
        "    def predict(self, X_test):\n",
        "        test_predictions = []\n",
        "        for model in self.base_models:\n",
        "          test_pred = model.predict(X_test)\n",
        "          test_predictions.append(test_pred)\n",
        "        meta_test_arr = np.stack_columns(test_predictions)\n",
        "        preds = self.meta_model.predict(meta_test_arr)\n",
        "        return preds"
      ],
      "metadata": {
        "id": "zaobpPF_-4Ls"
      },
      "execution_count": 2,
      "outputs": []
    },
    {
      "cell_type": "code",
      "source": [],
      "metadata": {
        "id": "9y2ycAYf-4Bn"
      },
      "execution_count": null,
      "outputs": []
    },
    {
      "cell_type": "markdown",
      "source": [
        "Решение шаг 7"
      ],
      "metadata": {
        "id": "KVDDFI4IubtE"
      }
    },
    {
      "cell_type": "code",
      "source": [
        "from sklearn.linear_model import LinearRegression, LassoCV\n",
        "from sklearn.svm import SVR\n",
        "base_models = [LinearRegression(), LassoCV(), SVR()]\n",
        "X_train, X_holdout, y_train, y_holdout = train_test_split(X, y, random_state=42, shuffle=True)\n",
        "# Теперь обучи свой ансамбль и положи предсказания на X_holdout в переменную preds\n",
        "stacker = Blender(base_models = base_models, meta_model = LinearRegression())\n",
        "stacker.fit(X_train, y_train, X_holdout, y_holdout)\n",
        "preds = stacker.predict(X_holdout)"
      ],
      "metadata": {
        "id": "hAD-RH4JmtHJ"
      },
      "execution_count": null,
      "outputs": []
    },
    {
      "cell_type": "code",
      "source": [],
      "metadata": {
        "id": "fdKcNe6zmsyH"
      },
      "execution_count": null,
      "outputs": []
    },
    {
      "cell_type": "markdown",
      "source": [
        "# Задача на 10-ом шаге урока"
      ],
      "metadata": {
        "id": "tp2kr4xK_Lgu"
      }
    },
    {
      "cell_type": "markdown",
      "source": [
        "**Пишем CV**"
      ],
      "metadata": {
        "id": "WhrgCYgKezLq"
      }
    },
    {
      "cell_type": "markdown",
      "source": [
        "Для тестирования функции можно использовать следующий код:"
      ],
      "metadata": {
        "id": "yoOagYj01tAb"
      }
    },
    {
      "cell_type": "code",
      "source": [
        "from sklearn import datasets\n",
        "from sklearn.linear_model import LinearRegression, Lasso\n",
        "from sklearn.svm import SVR\n",
        "\n",
        "X, y = datasets.load_diabetes(return_X_y=True)\n",
        "X = pd.DataFrame(X)\n",
        "\n",
        "base_models = [LinearRegression(), Lasso(), SVR()]\n",
        "for model in base_models:\n",
        "  GetPreds(model, X, y)"
      ],
      "metadata": {
        "id": "uFDd4LJ1-8he"
      },
      "execution_count": null,
      "outputs": []
    },
    {
      "cell_type": "markdown",
      "source": [
        "Решение"
      ],
      "metadata": {
        "id": "R5CdnyXQyXj7"
      }
    },
    {
      "cell_type": "code",
      "source": [
        "def GetPreds(model, X, y, n_fold=5):\n",
        "    \"\"\"\n",
        "    model - имеет методы .fit(X, y) и .predict(X)\n",
        "    X - pd.DataFrame\n",
        "    y - np.array\n",
        "    \"\"\"\n",
        "    folds = KFold(n_splits=n_fold)\n",
        "    preds = np.empty((0,1), float)\n",
        "\n",
        "    for train_indices, val_indices in folds.split(X, y):\n",
        "        model.fit(X[train_indices], y[train_indices])\n",
        "        model_preds = model.predict(X[val_indices]).reshape(-1, 1)\n",
        "        preds = np.vstack([preds, model_preds])\n",
        "\n",
        "    return preds.reshape(-1, 1)"
      ],
      "metadata": {
        "id": "Ilf29skJ_G8E"
      },
      "execution_count": 13,
      "outputs": []
    },
    {
      "cell_type": "code",
      "source": [
        "from sklearn import datasets\n",
        "from sklearn.model_selection import KFold\n",
        "from sklearn.linear_model import LinearRegression\n",
        "import numpy as np\n",
        "X, y = datasets.load_diabetes(return_X_y=True)\n",
        "folds = KFold(n_splits = 5)\n",
        "model = LinearRegression()\n",
        "preds = np.empty((0,1), float)\n",
        "for train_indices, val_indices in folds.split(X, y):\n",
        "  model.fit(X[train_indices], y[train_indices])\n",
        "  model_preds = model.predict(X[val_indices]).reshape(-1, 1)\n",
        "  preds = np.vstack([preds, model_preds])\n",
        "preds.reshape(-1, 1)\n"
      ],
      "metadata": {
        "id": "82Yty3Q9_G3o",
        "colab": {
          "base_uri": "https://localhost:8080/"
        },
        "outputId": "ac258c6b-7c08-420c-b05f-a868bc0a2ff6"
      },
      "execution_count": 22,
      "outputs": [
        {
          "output_type": "execute_result",
          "data": {
            "text/plain": [
              "array([[206.77303726],\n",
              "       [ 62.69542949],\n",
              "       [176.71336324],\n",
              "       [166.57976795],\n",
              "       [126.83940323],\n",
              "       [100.48593036],\n",
              "       [ 78.50447443],\n",
              "       [127.0920258 ],\n",
              "       [164.81530419],\n",
              "       [208.83313908],\n",
              "       [ 97.10133473],\n",
              "       [102.66259175],\n",
              "       [112.03983483],\n",
              "       [163.16431141],\n",
              "       [ 96.85026773],\n",
              "       [178.57978312],\n",
              "       [205.99351028],\n",
              "       [185.92416267],\n",
              "       [147.6932195 ],\n",
              "       [120.26287841],\n",
              "       [119.67042173],\n",
              "       [ 91.85090797],\n",
              "       [117.38360344],\n",
              "       [250.64220853],\n",
              "       [163.67100457],\n",
              "       [149.45693372],\n",
              "       [ 94.9514792 ],\n",
              "       [180.45940158],\n",
              "       [124.48509555],\n",
              "       [180.1891269 ],\n",
              "       [160.46402629],\n",
              "       [ 65.45375571],\n",
              "       [264.43125311],\n",
              "       [103.33653103],\n",
              "       [ 74.96732357],\n",
              "       [ 83.95982172],\n",
              "       [200.75618414],\n",
              "       [153.45851754],\n",
              "       [243.13347241],\n",
              "       [139.82797442],\n",
              "       [163.24117412],\n",
              "       [ 72.4674252 ],\n",
              "       [148.05700267],\n",
              "       [ 79.13664642],\n",
              "       [221.20112155],\n",
              "       [125.65784228],\n",
              "       [137.11749333],\n",
              "       [104.1271514 ],\n",
              "       [ 76.6190447 ],\n",
              "       [190.37981562],\n",
              "       [157.4696313 ],\n",
              "       [169.87100588],\n",
              "       [135.44967182],\n",
              "       [160.98669188],\n",
              "       [142.04214051],\n",
              "       [ 71.5949635 ],\n",
              "       [204.74011693],\n",
              "       [ 73.06944824],\n",
              "       [ 89.32496739],\n",
              "       [135.9659015 ],\n",
              "       [111.5626816 ],\n",
              "       [180.79523479],\n",
              "       [ 65.34321699],\n",
              "       [ 99.71838579],\n",
              "       [114.79236469],\n",
              "       [190.36417996],\n",
              "       [152.51423555],\n",
              "       [127.94156511],\n",
              "       [116.0340951 ],\n",
              "       [122.63572931],\n",
              "       [ 74.93915493],\n",
              "       [239.33173579],\n",
              "       [138.75283137],\n",
              "       [127.88299231],\n",
              "       [157.02448191],\n",
              "       [131.78069864],\n",
              "       [195.03987314],\n",
              "       [ 80.57641343],\n",
              "       [156.96003861],\n",
              "       [ 94.19413451],\n",
              "       [171.64792893],\n",
              "       [125.82974479],\n",
              "       [ 60.02238398],\n",
              "       [149.64159429],\n",
              "       [ 48.47358894],\n",
              "       [165.47212745],\n",
              "       [ 50.24871429],\n",
              "       [144.87978406],\n",
              "       [ 85.88156632],\n",
              "       [101.86452619],\n",
              "       [ 77.07945175],\n",
              "       [186.30772867],\n",
              "       [192.09329696],\n",
              "       [ 60.07520594],\n",
              "       [109.79595328],\n",
              "       [118.7387543 ],\n",
              "       [208.62016829],\n",
              "       [204.77044148],\n",
              "       [127.27170287],\n",
              "       [142.6672207 ],\n",
              "       [168.73505728],\n",
              "       [105.0583501 ],\n",
              "       [145.68780862],\n",
              "       [161.69258361],\n",
              "       [154.31543792],\n",
              "       [113.15686202],\n",
              "       [ 72.42950084],\n",
              "       [153.51421505],\n",
              "       [227.04778967],\n",
              "       [134.70220919],\n",
              "       [ 36.12853896],\n",
              "       [124.86142524],\n",
              "       [146.5891088 ],\n",
              "       [202.61385201],\n",
              "       [293.62854801],\n",
              "       [189.3184096 ],\n",
              "       [214.34875215],\n",
              "       [229.84189435],\n",
              "       [158.06993241],\n",
              "       [149.00841561],\n",
              "       [153.97777998],\n",
              "       [201.3537171 ],\n",
              "       [217.32761494],\n",
              "       [169.07062191],\n",
              "       [168.35521298],\n",
              "       [187.88610457],\n",
              "       [ 55.30051979],\n",
              "       [117.29205737],\n",
              "       [ 94.03015747],\n",
              "       [201.19274969],\n",
              "       [237.97759809],\n",
              "       [ 68.81109431],\n",
              "       [110.60611478],\n",
              "       [ 65.65768798],\n",
              "       [140.30687972],\n",
              "       [232.69930446],\n",
              "       [ 52.92040784],\n",
              "       [237.26119257],\n",
              "       [250.79706949],\n",
              "       [255.0998746 ],\n",
              "       [154.56131677],\n",
              "       [217.28084804],\n",
              "       [173.50964535],\n",
              "       [118.68765575],\n",
              "       [177.50274685],\n",
              "       [241.41027476],\n",
              "       [187.1962152 ],\n",
              "       [221.52237014],\n",
              "       [110.24053165],\n",
              "       [178.16858077],\n",
              "       [208.87063223],\n",
              "       [144.6570432 ],\n",
              "       [193.89472152],\n",
              "       [121.69583312],\n",
              "       [152.09217798],\n",
              "       [195.28332512],\n",
              "       [146.31986571],\n",
              "       [120.58127022],\n",
              "       [ 85.60475876],\n",
              "       [237.52148839],\n",
              "       [ 82.03953059],\n",
              "       [225.86691266],\n",
              "       [138.59568718],\n",
              "       [192.5820864 ],\n",
              "       [150.44691155],\n",
              "       [ 73.67607628],\n",
              "       [ 61.82498425],\n",
              "       [258.80116229],\n",
              "       [215.90348995],\n",
              "       [224.93684643],\n",
              "       [ 46.75198793],\n",
              "       [ 86.22863599],\n",
              "       [218.05531503],\n",
              "       [ 96.70166862],\n",
              "       [161.66958848],\n",
              "       [120.01141369],\n",
              "       [157.88708701],\n",
              "       [222.55084544],\n",
              "       [101.9905058 ],\n",
              "       [171.57421487],\n",
              "       [180.86994131],\n",
              "       [ 96.1296478 ],\n",
              "       [177.37389755],\n",
              "       [161.92952375],\n",
              "       [202.99885296],\n",
              "       [187.01587146],\n",
              "       [196.45986352],\n",
              "       [ 68.34313446],\n",
              "       [162.05348524],\n",
              "       [123.95562313],\n",
              "       [203.73228956],\n",
              "       [126.95303596],\n",
              "       [ 94.22118187],\n",
              "       [139.18252001],\n",
              "       [160.92805799],\n",
              "       [169.65284361],\n",
              "       [101.60492617],\n",
              "       [193.76889564],\n",
              "       [139.51816689],\n",
              "       [184.39237817],\n",
              "       [100.38544306],\n",
              "       [ 65.78303509],\n",
              "       [168.46128799],\n",
              "       [199.70528279],\n",
              "       [178.96038848],\n",
              "       [231.10616476],\n",
              "       [159.4284817 ],\n",
              "       [214.07918721],\n",
              "       [225.672315  ],\n",
              "       [178.1549979 ],\n",
              "       [129.92942167],\n",
              "       [179.24971978],\n",
              "       [158.02068511],\n",
              "       [103.5685952 ],\n",
              "       [103.02398939],\n",
              "       [258.87253129],\n",
              "       [225.86578523],\n",
              "       [229.48244191],\n",
              "       [139.93128221],\n",
              "       [148.82688011],\n",
              "       [ 51.04182866],\n",
              "       [147.39094441],\n",
              "       [154.50889161],\n",
              "       [125.49149733],\n",
              "       [ 76.88607843],\n",
              "       [231.65779635],\n",
              "       [ 76.75665133],\n",
              "       [107.21664191],\n",
              "       [119.60620942],\n",
              "       [ 95.2331258 ],\n",
              "       [159.15064856],\n",
              "       [166.20819925],\n",
              "       [158.27793716],\n",
              "       [143.49249936],\n",
              "       [234.56103281],\n",
              "       [179.42001637],\n",
              "       [194.51269606],\n",
              "       [ 68.13273021],\n",
              "       [196.63146531],\n",
              "       [181.04541424],\n",
              "       [235.3010676 ],\n",
              "       [116.8291983 ],\n",
              "       [ 80.90932452],\n",
              "       [103.18885622],\n",
              "       [132.1615147 ],\n",
              "       [107.11610694],\n",
              "       [126.92468697],\n",
              "       [ 89.59525488],\n",
              "       [239.93622807],\n",
              "       [249.1077458 ],\n",
              "       [267.76370434],\n",
              "       [272.56696889],\n",
              "       [181.59919049],\n",
              "       [206.73848844],\n",
              "       [249.07451628],\n",
              "       [124.39312245],\n",
              "       [261.7847229 ],\n",
              "       [108.34525471],\n",
              "       [114.66400779],\n",
              "       [147.20429629],\n",
              "       [ 55.5917684 ],\n",
              "       [138.74226545],\n",
              "       [262.27051343],\n",
              "       [ 41.08044717],\n",
              "       [118.77193355],\n",
              "       [128.8909006 ],\n",
              "       [ 40.42231468],\n",
              "       [133.70664151],\n",
              "       [243.22762786],\n",
              "       [ 92.82310678],\n",
              "       [194.4325617 ],\n",
              "       [160.34325577],\n",
              "       [145.18295042],\n",
              "       [188.23568596],\n",
              "       [172.63602103],\n",
              "       [162.53685893],\n",
              "       [181.18399696],\n",
              "       [123.06141933],\n",
              "       [108.5588987 ],\n",
              "       [114.20481261],\n",
              "       [164.65590896],\n",
              "       [106.69709943],\n",
              "       [128.34406095],\n",
              "       [ 81.85739893],\n",
              "       [153.48747002],\n",
              "       [200.00054209],\n",
              "       [ 95.02280399],\n",
              "       [135.14487737],\n",
              "       [ 67.59165149],\n",
              "       [195.62871755],\n",
              "       [219.16945402],\n",
              "       [190.77949826],\n",
              "       [ 94.80428266],\n",
              "       [178.45820064],\n",
              "       [ 71.74793734],\n",
              "       [159.71934149],\n",
              "       [ 68.25865506],\n",
              "       [ 93.60297836],\n",
              "       [107.68269539],\n",
              "       [122.4950043 ],\n",
              "       [223.57231911],\n",
              "       [124.28051409],\n",
              "       [204.62765574],\n",
              "       [222.27497729],\n",
              "       [106.04344834],\n",
              "       [132.45604975],\n",
              "       [123.06889783],\n",
              "       [145.86958375],\n",
              "       [ 86.71065534],\n",
              "       [140.94287011],\n",
              "       [202.33862783],\n",
              "       [165.55217275],\n",
              "       [122.75017933],\n",
              "       [211.42992657],\n",
              "       [174.02760894],\n",
              "       [108.75285061],\n",
              "       [204.25870909],\n",
              "       [166.57418178],\n",
              "       [158.37797125],\n",
              "       [200.44880293],\n",
              "       [188.2239514 ],\n",
              "       [280.58554406],\n",
              "       [290.5229147 ],\n",
              "       [218.19862167],\n",
              "       [205.46981982],\n",
              "       [220.43050383],\n",
              "       [157.6403716 ],\n",
              "       [219.13983338],\n",
              "       [196.82533102],\n",
              "       [106.96274562],\n",
              "       [174.49187176],\n",
              "       [108.12279133],\n",
              "       [290.75129598],\n",
              "       [181.29496975],\n",
              "       [ 80.51386687],\n",
              "       [ 81.27181753],\n",
              "       [253.64663818],\n",
              "       [169.96607405],\n",
              "       [116.87453769],\n",
              "       [143.84957692],\n",
              "       [161.33663085],\n",
              "       [177.73944702],\n",
              "       [155.6183709 ],\n",
              "       [151.69049066],\n",
              "       [144.34470252],\n",
              "       [118.03073281],\n",
              "       [170.21149754],\n",
              "       [104.76855336],\n",
              "       [133.94251252],\n",
              "       [ 89.40363406],\n",
              "       [260.20567744],\n",
              "       [ 91.53955077],\n",
              "       [ 71.43444284],\n",
              "       [163.02473379],\n",
              "       [191.42663786],\n",
              "       [133.05092414],\n",
              "       [ 91.97489149],\n",
              "       [198.85329538],\n",
              "       [ 54.99118491],\n",
              "       [173.71380962],\n",
              "       [196.45900424],\n",
              "       [120.50812033],\n",
              "       [233.22879285],\n",
              "       [163.51838324],\n",
              "       [161.25210397],\n",
              "       [163.87606356],\n",
              "       [253.65424332],\n",
              "       [255.59270477],\n",
              "       [197.80895195],\n",
              "       [185.4488791 ],\n",
              "       [ 60.13720426],\n",
              "       [194.74947613],\n",
              "       [109.34244048],\n",
              "       [143.03368049],\n",
              "       [127.9267998 ],\n",
              "       [176.0460315 ],\n",
              "       [209.93560878],\n",
              "       [166.33382206],\n",
              "       [162.17691058],\n",
              "       [137.52759478],\n",
              "       [174.2041369 ],\n",
              "       [ 74.27338185],\n",
              "       [249.47495274],\n",
              "       [113.9719912 ],\n",
              "       [108.94027901],\n",
              "       [138.30715307],\n",
              "       [110.87527442],\n",
              "       [ 95.73814494],\n",
              "       [159.50434524],\n",
              "       [ 75.5642798 ],\n",
              "       [254.53034118],\n",
              "       [ 57.21790203],\n",
              "       [ 99.57356098],\n",
              "       [101.80949994],\n",
              "       [261.2474715 ],\n",
              "       [168.81126403],\n",
              "       [ 64.19976785],\n",
              "       [183.11369272],\n",
              "       [169.90337897],\n",
              "       [187.01030546],\n",
              "       [184.80673483],\n",
              "       [ 90.37766099],\n",
              "       [148.74727253],\n",
              "       [251.58782289],\n",
              "       [198.12721305],\n",
              "       [279.86884213],\n",
              "       [ 51.41556469],\n",
              "       [175.31701225],\n",
              "       [201.49992554],\n",
              "       [170.2071953 ],\n",
              "       [155.29741118],\n",
              "       [152.87354256],\n",
              "       [232.74635133],\n",
              "       [122.87732508],\n",
              "       [163.17706883],\n",
              "       [172.87768412],\n",
              "       [225.28094233],\n",
              "       [152.36537077],\n",
              "       [ 99.61228798],\n",
              "       [ 84.10619349],\n",
              "       [142.0566954 ],\n",
              "       [189.88421491],\n",
              "       [195.33202631],\n",
              "       [150.02127343],\n",
              "       [171.09070787],\n",
              "       [113.07349751],\n",
              "       [161.34064573],\n",
              "       [130.9751537 ],\n",
              "       [257.19864909],\n",
              "       [100.36390117],\n",
              "       [116.38384754],\n",
              "       [121.47729376],\n",
              "       [219.42875433],\n",
              "       [ 61.9707992 ],\n",
              "       [132.73123404],\n",
              "       [120.51792617],\n",
              "       [ 54.18450094],\n",
              "       [190.31552718],\n",
              "       [102.82958576],\n",
              "       [121.90965872],\n",
              "       [209.99768273],\n",
              "       [ 53.80590815]])"
            ]
          },
          "metadata": {},
          "execution_count": 22
        }
      ]
    },
    {
      "cell_type": "code",
      "source": [
        "preds"
      ],
      "metadata": {
        "colab": {
          "base_uri": "https://localhost:8080/"
        },
        "id": "Oxc1e5iQmaPI",
        "outputId": "dd566f3a-5087-40e3-c7d7-1a51ba9ae308"
      },
      "execution_count": 12,
      "outputs": [
        {
          "output_type": "execute_result",
          "data": {
            "text/plain": [
              "array([], shape=(0, 1), dtype=float64)"
            ]
          },
          "metadata": {},
          "execution_count": 12
        }
      ]
    },
    {
      "cell_type": "markdown",
      "source": [
        "# Задача на 11-ом шаге урока"
      ],
      "metadata": {
        "id": "XoxhPMZzHlNU"
      }
    },
    {
      "cell_type": "markdown",
      "source": [
        "**Добавляем X_test**"
      ],
      "metadata": {
        "id": "7SoeTlige84X"
      }
    },
    {
      "cell_type": "markdown",
      "source": [
        "Модифицируйте функцию из предыдущей задачи, чтобы она, помимо предсказаний на весь X, еще возвращала предсказания на X_test. Для того чтобы получить предсказания на X_test, обучите данную модель сразу на всей выборке."
      ],
      "metadata": {
        "id": "PJosWN074bZa"
      }
    },
    {
      "cell_type": "markdown",
      "source": [
        "Для тестирования функции можно использовать следующий код:"
      ],
      "metadata": {
        "id": "G5bFHN3h4xEt"
      }
    },
    {
      "cell_type": "code",
      "source": [
        "from sklearn import datasets\n",
        "from sklearn.linear_model import LinearRegression, Lasso\n",
        "from sklearn.svm import SVR\n",
        "\n",
        "X, y = datasets.load_diabetes(return_X_y=True)\n",
        "X = pd.DataFrame(X)\n",
        "X_train, X_test, y_train, y_test = train_test_split(X, y, random_state=42, shuffle=True)\n",
        "\n",
        "base_models = [LinearRegression(), Lasso(), SVR()]\n",
        "for model in base_models:\n",
        "  GetPreds(model, X, y, X_test)"
      ],
      "metadata": {
        "id": "E-QPDeL522g-"
      },
      "execution_count": null,
      "outputs": []
    },
    {
      "cell_type": "code",
      "source": [],
      "metadata": {
        "id": "xqyYpBpd22dE"
      },
      "execution_count": null,
      "outputs": []
    },
    {
      "cell_type": "markdown",
      "source": [
        "Решение"
      ],
      "metadata": {
        "id": "SIB1wYbF22DM"
      }
    },
    {
      "cell_type": "code",
      "source": [
        "def GetPreds(model, X, y, X_test, n_fold=5):\n",
        "    \"\"\"\n",
        "    model - имеет методы .fit(X, y) и .predict(X)\n",
        "    X - pd.DataFrame\n",
        "    y - np.array\n",
        "    X_test - pd.DataFrame, для которого нужно сделать предсказания\n",
        "    \"\"\"\n",
        "    folds = KFold(n_splits=n_fold)\n",
        "    preds = np.empty((0,1),float)\n",
        "\n",
        "    for train_indices, val_indices in folds.split(X, y):\n",
        "        # your code here\n",
        "\n",
        "    test_preds = # your code here\n",
        "    return preds.reshape(len(X), 1), test_preds.reshape(len(X_test), 1)"
      ],
      "metadata": {
        "id": "aPAAQYpZHwcE"
      },
      "execution_count": null,
      "outputs": []
    },
    {
      "cell_type": "code",
      "source": [],
      "metadata": {
        "id": "2j3w6qDZHwOv"
      },
      "execution_count": null,
      "outputs": []
    }
  ]
}