{
  "nbformat": 4,
  "nbformat_minor": 0,
  "metadata": {
    "colab": {
      "provenance": [],
      "collapsed_sections": [
        "tQFfZ4nx_fMo",
        "MzSsFM41G7bl"
      ]
    },
    "kernelspec": {
      "name": "python3",
      "display_name": "Python 3"
    },
    "language_info": {
      "name": "python"
    }
  },
  "cells": [
    {
      "cell_type": "markdown",
      "source": [
        "# Задача на 10-ом шаге урока"
      ],
      "metadata": {
        "id": "tQFfZ4nx_fMo"
      }
    },
    {
      "cell_type": "markdown",
      "source": [
        "**Напишите custom-метрику для CatBoost**"
      ],
      "metadata": {
        "id": "jtkRRz1J4HNB"
      }
    },
    {
      "cell_type": "markdown",
      "source": [
        "Датасет с бинарным таргетом для тестов."
      ],
      "metadata": {
        "id": "A2yuSblI5aoB"
      }
    },
    {
      "cell_type": "code",
      "source": [
        "!pip install catboost -q"
      ],
      "metadata": {
        "id": "4UD92_-NeXkv",
        "outputId": "ac5de477-f1f2-4205-a4c0-5b5e4822a2df",
        "colab": {
          "base_uri": "https://localhost:8080/"
        }
      },
      "execution_count": 2,
      "outputs": [
        {
          "output_type": "stream",
          "name": "stdout",
          "text": [
            "\u001b[2K   \u001b[90m━━━━━━━━━━━━━━━━━━━━━━━━━━━━━━━━━━━━━━━━\u001b[0m \u001b[32m99.2/99.2 MB\u001b[0m \u001b[31m9.1 MB/s\u001b[0m eta \u001b[36m0:00:00\u001b[0m\n",
            "\u001b[?25h"
          ]
        }
      ]
    },
    {
      "cell_type": "code",
      "source": [
        "path = 'https://stepik.org/media/attachments/lesson/779917/CB_bin_target_data.csv'"
      ],
      "metadata": {
        "id": "WtfFeSUHx1HS"
      },
      "execution_count": 1,
      "outputs": []
    },
    {
      "cell_type": "markdown",
      "source": [
        "Фрагмент кода, который должен выполняться без ошибок на тестовом датасете"
      ],
      "metadata": {
        "id": "s46727bf53yc"
      }
    },
    {
      "cell_type": "code",
      "source": [
        "import pandas as pd\n",
        "from catboost import CatBoostClassifier\n",
        "from sklearn.model_selection import train_test_split\n",
        "\n",
        "rides_info = pd.read_csv(path)\n",
        "cat_cols = ['car_type', 'fuel_type', 'model']\n",
        "X = rides_info.drop(['target_bin'], axis=1)\n",
        "y = rides_info['target_bin']\n",
        "\n",
        "X_train, X_test, y_train, y_test = train_test_split(X, y, test_size=0.2, random_state=42)\n",
        "\n",
        "model = CatBoostClassifier(random_state=42,\n",
        "                           cat_features=cat_cols,\n",
        "                           eval_metric=P4Metric())\n",
        "\n",
        "model.fit(X_train, y_train,\n",
        "          eval_set=(X_test, y_test),\n",
        "          verbose=50, plot=False,\n",
        "          early_stopping_rounds=100)"
      ],
      "metadata": {
        "id": "GoW2Wdrd557G",
        "outputId": "3751edbf-a2bb-417c-ae7b-29d06ce3db4f",
        "colab": {
          "base_uri": "https://localhost:8080/"
        }
      },
      "execution_count": 14,
      "outputs": [
        {
          "output_type": "stream",
          "name": "stdout",
          "text": [
            "Learning rate set to 0.036983\n",
            "0:\tlearn: 0.0000000\ttest: 0.0000000\tbest: 0.0000000 (0)\ttotal: 607ms\tremaining: 10m 6s\n",
            "50:\tlearn: 0.6618212\ttest: 0.5148397\tbest: 0.5148397 (50)\ttotal: 861ms\tremaining: 16s\n",
            "100:\tlearn: 0.8116578\ttest: 0.5942377\tbest: 0.5989402 (92)\ttotal: 1.12s\tremaining: 10s\n",
            "150:\tlearn: 0.8649428\ttest: 0.6610884\tbest: 0.6610884 (145)\ttotal: 1.39s\tremaining: 7.8s\n",
            "200:\tlearn: 0.8952646\ttest: 0.6438122\tbest: 0.6779758 (178)\ttotal: 1.68s\tremaining: 6.67s\n",
            "250:\tlearn: 0.9362061\ttest: 0.6305286\tbest: 0.6779758 (178)\ttotal: 1.95s\tremaining: 5.83s\n",
            "Stopped by overfitting detector  (100 iterations wait)\n",
            "\n",
            "bestTest = 0.6779758482\n",
            "bestIteration = 178\n",
            "\n",
            "Shrink model to first 179 iterations.\n"
          ]
        },
        {
          "output_type": "execute_result",
          "data": {
            "text/plain": [
              "<catboost.core.CatBoostClassifier at 0x7adf82cb6000>"
            ]
          },
          "metadata": {},
          "execution_count": 14
        }
      ]
    },
    {
      "cell_type": "markdown",
      "source": [
        "Решение"
      ],
      "metadata": {
        "id": "GCm9aPno6Pqh"
      }
    },
    {
      "cell_type": "code",
      "execution_count": 13,
      "metadata": {
        "id": "SJ48wmwEtd82"
      },
      "outputs": [],
      "source": [
        "import numpy as np\n",
        "\n",
        "class P4Metric(object):\n",
        "    def get_final_error(self, error, weight):\n",
        "        return error / (weight + 1e-38)\n",
        "\n",
        "    def is_max_optimal(self):\n",
        "        return True\n",
        "\n",
        "    def evaluate(self, approxes, target, weight):\n",
        "        assert len(approxes) == 1\n",
        "        assert len(target) == len(approxes[0])\n",
        "\n",
        "        approx = approxes[0]\n",
        "        tp = fp = tn = fn = 0\n",
        "        for i in range(len(approx)):\n",
        "          e = np.exp(approx[i])\n",
        "          p = e /(1+e)\n",
        "          if p > 0.5:\n",
        "            prediction = 1\n",
        "          else:\n",
        "            prediction = 0\n",
        "          if prediction == 1 and target[i] == 1:\n",
        "            tp += 1\n",
        "          elif prediction == 1 and target[i] == 0:\n",
        "            fp += 1\n",
        "          elif prediction == 0 and target[i] == 0:\n",
        "            tn += 1\n",
        "          else:\n",
        "            fn += 1\n",
        "        p4 = 4 * tp * tn / (4 * tp * tn + (tp + tn) * (fp + fn))\n",
        "        return p4, 1\n",
        ""
      ]
    },
    {
      "cell_type": "code",
      "source": [],
      "metadata": {
        "id": "Mhwbu91nthzl"
      },
      "execution_count": null,
      "outputs": []
    },
    {
      "cell_type": "markdown",
      "source": [
        "# Задача на 11-ом шаге урока"
      ],
      "metadata": {
        "id": "MzSsFM41G7bl"
      }
    },
    {
      "cell_type": "markdown",
      "source": [
        "**🤿 По следам custom-метрики!**"
      ],
      "metadata": {
        "id": "qH7JcNcq6dCU"
      }
    },
    {
      "cell_type": "markdown",
      "source": [
        "Заполните пропуски (****), чтобы ускорить вычисления функции:"
      ],
      "metadata": {
        "id": "uyd6NAcc6z21"
      }
    },
    {
      "cell_type": "code",
      "source": [
        "from **** import ****\n",
        "\n",
        "****\n",
        "def custom_func():\n",
        "    pass"
      ],
      "metadata": {
        "id": "YZc2bwsCUOnr"
      },
      "execution_count": null,
      "outputs": []
    }
  ]
}